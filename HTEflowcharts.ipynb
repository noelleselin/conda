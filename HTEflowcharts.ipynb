{
  "nbformat": 4,
  "nbformat_minor": 0,
  "metadata": {
    "colab": {
      "name": "HTEflowcharts.ipynb",
      "provenance": [],
      "authorship_tag": "ABX9TyOmVFBKY5a7GPh4YoGIlb4o",
      "include_colab_link": true
    },
    "kernelspec": {
      "name": "python3",
      "display_name": "Python 3"
    }
  },
  "cells": [
    {
      "cell_type": "markdown",
      "metadata": {
        "id": "view-in-github",
        "colab_type": "text"
      },
      "source": [
        "<a href=\"https://colab.research.google.com/github/noelleselin/conda/blob/master/HTEflowcharts.ipynb\" target=\"_parent\"><img src=\"https://colab.research.google.com/assets/colab-badge.svg\" alt=\"Open In Colab\"/></a>"
      ]
    },
    {
      "cell_type": "markdown",
      "metadata": {
        "id": "1T5dGQp3g2iC"
      },
      "source": [
        "#Pathway Diagrams: The HTE Framework and Matrix-Based Approach"
      ]
    },
    {
      "cell_type": "markdown",
      "metadata": {
        "id": "aaPRTP-Bggsi"
      },
      "source": [
        "**This code will help you make a pathway diagram for the human-technical-environmental (HTE) systems framework, illustrating pathways of linked interactions among system components.**\n",
        "\n",
        "*For more information on the HTE framework and matrix-based approach, you can find more information at [this link](https://www.mercurystories.org/resources) and in the book [Mercury Stories: Understanding Sustainability through a Volatile Element](https://mitpress.mit.edu/books/mercury-stories) (H. Selin and N. E. Selin, MIT Press, 2020).*"
      ]
    },
    {
      "cell_type": "markdown",
      "metadata": {
        "id": "qxAfUaMLh_2A"
      },
      "source": [
        "To run the code below, press the small circular arrow to the left of each cell in order. Follow the directions below to input information on the system you are evaluating."
      ]
    },
    {
      "cell_type": "markdown",
      "metadata": {
        "id": "fnyrwqmXnlN8"
      },
      "source": [
        "Note: If you're modifying the code, you'll want to save a copy of this notebook into your own google drive. Go to File --> Save a Copy in Drive above to do this."
      ]
    },
    {
      "cell_type": "code",
      "metadata": {
        "id": "1lLxydXjI1-q"
      },
      "source": [
        "#The code in this cell doesn't need to be customized -- it just imports the program we'll use to create the pathway diagram\n",
        "#You can go ahead and run this one without modification\n",
        "\n",
        "from graphviz import Digraph\n",
        "# Create Digraph object\n",
        "dot = Digraph()\n"
      ],
      "execution_count": null,
      "outputs": []
    },
    {
      "cell_type": "code",
      "metadata": {
        "id": "L_FlvOsjcthS"
      },
      "source": [
        "#Here, you need to list all of the interactions you want in your pathway diagram\n",
        "#Replace the text below in red with the qualitative description of your interaction\n",
        "#e.g. HH1='consumers and producers interact in markets'\n",
        "#Add lines if needed:\n",
        "#e.g. HT3='consumers buy single-use plastics'\n",
        "\n",
        "#A formatting note: if you'd like the text to have two lines in your pathway diagram, \n",
        "#you'll need to enter that line break manually. Do that by inserting \\n into your text.\n",
        "#See the example in EH1 below. \n",
        "\n",
        "HH1='H1'\n",
        "HT1='human-technical interaction 1'\n",
        "TE1='technical-environmental interaction 1'\n",
        "EH1='environmental-human \\n interaction 1'\n",
        "HT2='human-technical interaction 2'"
      ],
      "execution_count": null,
      "outputs": []
    },
    {
      "cell_type": "code",
      "metadata": {
        "id": "dYhQoEszI3AL"
      },
      "source": [
        "#This is where you specify the number of interactions included.\n",
        "#If you added any interactions above, be sure to insert them here\n",
        "#e.g. dot.node(HT3)\n",
        "\n",
        "dot.node(HH1)\n",
        "dot.node(HT1)\n",
        "dot.node(TE1)\n",
        "dot.node(EH1)\n",
        "dot.node(HT2)\n"
      ],
      "execution_count": null,
      "outputs": []
    },
    {
      "cell_type": "code",
      "metadata": {
        "id": "mE0EuHh0cfl8"
      },
      "source": [
        "#This code illustrates the links between the interactions -- the pathways.\n",
        "#Remember that in the framework, the pathways connect through common components\n",
        "#The pathways have directionality: the code \n",
        "#dot.edge(HT1, TE1)\n",
        "#represents a pathway in which a human component influences a technical component, \n",
        "#which in turn influences an environmental component\n",
        "\n",
        "#Edit the code below to reflect all of your linked interactions.\n",
        "\n",
        "dot.edge(HH1,HT1)\n",
        "dot.edge(HH1,HT2)\n",
        "dot.edge(HT1,TE1)\n",
        "dot.edge(TE1,EH1)\n",
        "dot.edge(EH1,HT1)\n",
        "dot.edge(HT2,TE1)"
      ],
      "execution_count": null,
      "outputs": []
    },
    {
      "cell_type": "code",
      "metadata": {
        "id": "q0q83XnaeVmc"
      },
      "source": [
        "#Here's where you can play with how the diagram looks, if you're familiar with the dot language.\n",
        "\n",
        "dot.graph_attr['rankdir'] = 'LR'\n",
        "dot.node_attr['shape']='box'\n"
      ],
      "execution_count": null,
      "outputs": []
    },
    {
      "cell_type": "code",
      "metadata": {
        "id": "Psezv8sGcJ2z",
        "colab": {
          "base_uri": "https://localhost:8080/",
          "height": 152
        },
        "outputId": "c8bd78d9-45a8-4cdf-9b97-995e7c0e8201"
      },
      "source": [
        "#Show the diagram!\n",
        "\n",
        "dot"
      ],
      "execution_count": null,
      "outputs": [
        {
          "output_type": "execute_result",
          "data": {
            "text/plain": [
              "<graphviz.dot.Digraph at 0x7f88ccae7f10>"
            ],
            "image/svg+xml": "<?xml version=\"1.0\" encoding=\"UTF-8\" standalone=\"no\"?>\n<!DOCTYPE svg PUBLIC \"-//W3C//DTD SVG 1.1//EN\"\n \"http://www.w3.org/Graphics/SVG/1.1/DTD/svg11.dtd\">\n<!-- Generated by graphviz version 2.40.1 (20161225.0304)\n -->\n<!-- Title: %3 Pages: 1 -->\n<svg width=\"732pt\" height=\"98pt\"\n viewBox=\"0.00 0.00 732.00 98.00\" xmlns=\"http://www.w3.org/2000/svg\" xmlns:xlink=\"http://www.w3.org/1999/xlink\">\n<g id=\"graph0\" class=\"graph\" transform=\"scale(1 1) rotate(0) translate(4 94)\">\n<title>%3</title>\n<polygon fill=\"#ffffff\" stroke=\"transparent\" points=\"-4,4 -4,-94 728,-94 728,4 -4,4\"/>\n<!-- H1 -->\n<g id=\"node1\" class=\"node\">\n<title>H1</title>\n<polygon fill=\"none\" stroke=\"#000000\" points=\"54,-63 0,-63 0,-27 54,-27 54,-63\"/>\n<text text-anchor=\"middle\" x=\"27\" y=\"-41.3\" font-family=\"Times,serif\" font-size=\"14.00\" fill=\"#000000\">H1</text>\n</g>\n<!-- human&#45;technical interaction 1 -->\n<g id=\"node2\" class=\"node\">\n<title>human&#45;technical interaction 1</title>\n<polygon fill=\"none\" stroke=\"#000000\" points=\"276,-36 90,-36 90,0 276,0 276,-36\"/>\n<text text-anchor=\"middle\" x=\"183\" y=\"-14.3\" font-family=\"Times,serif\" font-size=\"14.00\" fill=\"#000000\">human&#45;technical interaction 1</text>\n</g>\n<!-- H1&#45;&gt;human&#45;technical interaction 1 -->\n<g id=\"edge1\" class=\"edge\">\n<title>H1&#45;&gt;human&#45;technical interaction 1</title>\n<path fill=\"none\" stroke=\"#000000\" d=\"M54.1731,-40.297C61.8183,-38.9738 70.6173,-37.4509 79.9517,-35.8353\"/>\n<polygon fill=\"#000000\" stroke=\"#000000\" points=\"80.5905,-39.2769 89.847,-34.1226 79.3966,-32.3794 80.5905,-39.2769\"/>\n</g>\n<!-- human&#45;technical interaction 2 -->\n<g id=\"node5\" class=\"node\">\n<title>human&#45;technical interaction 2</title>\n<polygon fill=\"none\" stroke=\"#000000\" points=\"276,-90 90,-90 90,-54 276,-54 276,-90\"/>\n<text text-anchor=\"middle\" x=\"183\" y=\"-68.3\" font-family=\"Times,serif\" font-size=\"14.00\" fill=\"#000000\">human&#45;technical interaction 2</text>\n</g>\n<!-- H1&#45;&gt;human&#45;technical interaction 2 -->\n<g id=\"edge2\" class=\"edge\">\n<title>H1&#45;&gt;human&#45;technical interaction 2</title>\n<path fill=\"none\" stroke=\"#000000\" d=\"M54.1731,-49.703C61.8183,-51.0262 70.6173,-52.5491 79.9517,-54.1647\"/>\n<polygon fill=\"#000000\" stroke=\"#000000\" points=\"79.3966,-57.6206 89.847,-55.8774 80.5905,-50.7231 79.3966,-57.6206\"/>\n</g>\n<!-- technical&#45;environmental interaction 1 -->\n<g id=\"node3\" class=\"node\">\n<title>technical&#45;environmental interaction 1</title>\n<polygon fill=\"none\" stroke=\"#000000\" points=\"541,-82 312,-82 312,-46 541,-46 541,-82\"/>\n<text text-anchor=\"middle\" x=\"426.5\" y=\"-60.3\" font-family=\"Times,serif\" font-size=\"14.00\" fill=\"#000000\">technical&#45;environmental interaction 1</text>\n</g>\n<!-- human&#45;technical interaction 1&#45;&gt;technical&#45;environmental interaction 1 -->\n<g id=\"edge3\" class=\"edge\">\n<title>human&#45;technical interaction 1&#45;&gt;technical&#45;environmental interaction 1</title>\n<path fill=\"none\" stroke=\"#000000\" d=\"M276.0992,-35.5875C290.7167,-38.3489 305.9184,-41.2207 320.7949,-44.0311\"/>\n<polygon fill=\"#000000\" stroke=\"#000000\" points=\"320.5549,-47.5476 331.0308,-45.9648 321.8543,-40.6692 320.5549,-47.5476\"/>\n</g>\n<!-- environmental&#45;human \n interaction 1 -->\n<g id=\"node4\" class=\"node\">\n<title>environmental&#45;human \n interaction 1</title>\n<polygon fill=\"none\" stroke=\"#000000\" points=\"724,-60 577,-60 577,-22 724,-22 724,-60\"/>\n<text text-anchor=\"middle\" x=\"650.5\" y=\"-44.8\" font-family=\"Times,serif\" font-size=\"14.00\" fill=\"#000000\">environmental&#45;human </text>\n<text text-anchor=\"middle\" x=\"650.5\" y=\"-29.8\" font-family=\"Times,serif\" font-size=\"14.00\" fill=\"#000000\"> interaction 1</text>\n</g>\n<!-- technical&#45;environmental interaction 1&#45;&gt;environmental&#45;human \n interaction 1 -->\n<g id=\"edge4\" class=\"edge\">\n<title>technical&#45;environmental interaction 1&#45;&gt;environmental&#45;human \n interaction 1</title>\n<path fill=\"none\" stroke=\"#000000\" d=\"M541.1248,-52.2305C549.7721,-51.3426 558.3986,-50.4568 566.7978,-49.5944\"/>\n<polygon fill=\"#000000\" stroke=\"#000000\" points=\"567.3263,-53.0586 576.9165,-48.5554 566.6113,-46.0953 567.3263,-53.0586\"/>\n</g>\n<!-- environmental&#45;human \n interaction 1&#45;&gt;human&#45;technical interaction 1 -->\n<g id=\"edge5\" class=\"edge\">\n<title>environmental&#45;human \n interaction 1&#45;&gt;human&#45;technical interaction 1</title>\n<path fill=\"none\" stroke=\"#000000\" d=\"M576.6658,-37.3675C498.3869,-33.5164 374.1489,-27.4041 286.2035,-23.0774\"/>\n<polygon fill=\"#000000\" stroke=\"#000000\" points=\"286.3617,-19.581 276.2018,-22.5853 286.0177,-26.5726 286.3617,-19.581\"/>\n</g>\n<!-- human&#45;technical interaction 2&#45;&gt;technical&#45;environmental interaction 1 -->\n<g id=\"edge6\" class=\"edge\">\n<title>human&#45;technical interaction 2&#45;&gt;technical&#45;environmental interaction 1</title>\n<path fill=\"none\" stroke=\"#000000\" d=\"M276.0992,-68.9413C284.4946,-68.6655 293.0827,-68.3833 301.6913,-68.1005\"/>\n<polygon fill=\"#000000\" stroke=\"#000000\" points=\"301.9163,-71.5951 311.796,-67.7685 301.6864,-64.5989 301.9163,-71.5951\"/>\n</g>\n</g>\n</svg>\n"
          },
          "metadata": {
            "tags": []
          },
          "execution_count": 6
        }
      ]
    }
  ]
}